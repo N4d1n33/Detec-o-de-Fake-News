{
  "nbformat": 4,
  "nbformat_minor": 0,
  "metadata": {
    "colab": {
      "provenance": [],
      "gpuType": "T4"
    },
    "kernelspec": {
      "name": "python3",
      "display_name": "Python 3"
    },
    "language_info": {
      "name": "python"
    },
    "accelerator": "GPU"
  },
  "cells": [
    {
      "cell_type": "code",
      "source": [
        "from google.colab import drive\n",
        "drive.mount('/content/drive')\n"
      ],
      "metadata": {
        "colab": {
          "base_uri": "https://localhost:8080/"
        },
        "id": "48Z8UktIE-MA",
        "outputId": "414871a0-02ac-4cca-b388-a23efb3d118c"
      },
      "execution_count": null,
      "outputs": [
        {
          "output_type": "stream",
          "name": "stdout",
          "text": [
            "Drive already mounted at /content/drive; to attempt to forcibly remount, call drive.mount(\"/content/drive\", force_remount=True).\n"
          ]
        }
      ]
    },
    {
      "cell_type": "code",
      "source": [
        "!unzip \"/content/drive/MyDrive/Portugues/modelo_fakenews_final.zip\" -d \"/content/modelo_fakenews_final\""
      ],
      "metadata": {
        "colab": {
          "base_uri": "https://localhost:8080/"
        },
        "id": "tBXDbxGeGW3L",
        "outputId": "b18517ac-2a82-4415-8d7c-9364e42cb940"
      },
      "execution_count": null,
      "outputs": [
        {
          "output_type": "stream",
          "name": "stdout",
          "text": [
            "Archive:  /content/drive/MyDrive/Portugues/modelo_fakenews_final.zip\n",
            "   creating: /content/modelo_fakenews_final/modelo_fakenews_final/\n",
            "   creating: /content/modelo_fakenews_final/modelo_fakenews_final/checkpoint-7450/\n",
            "  inflating: /content/modelo_fakenews_final/modelo_fakenews_final/checkpoint-7450/config.json  \n",
            "  inflating: /content/modelo_fakenews_final/modelo_fakenews_final/checkpoint-7450/model.safetensors  \n",
            "  inflating: /content/modelo_fakenews_final/modelo_fakenews_final/checkpoint-7450/optimizer.pt  \n",
            "  inflating: /content/modelo_fakenews_final/modelo_fakenews_final/checkpoint-7450/rng_state.pth  \n",
            "  inflating: /content/modelo_fakenews_final/modelo_fakenews_final/checkpoint-7450/scheduler.pt  \n",
            "  inflating: /content/modelo_fakenews_final/modelo_fakenews_final/checkpoint-7450/special_tokens_map.json  \n",
            "  inflating: /content/modelo_fakenews_final/modelo_fakenews_final/checkpoint-7450/tokenizer.json  \n",
            "  inflating: /content/modelo_fakenews_final/modelo_fakenews_final/checkpoint-7450/tokenizer_config.json  \n",
            "  inflating: /content/modelo_fakenews_final/modelo_fakenews_final/checkpoint-7450/trainer_state.json  \n",
            "  inflating: /content/modelo_fakenews_final/modelo_fakenews_final/checkpoint-7450/training_args.bin  \n",
            "  inflating: /content/modelo_fakenews_final/modelo_fakenews_final/checkpoint-7450/vocab.txt  \n"
          ]
        }
      ]
    },
    {
      "cell_type": "code",
      "source": [
        "from transformers import AutoTokenizer, AutoModelForSequenceClassification\n",
        "\n",
        "modelo_dir = \"/content/modelo_fakenews_final/modelo_fakenews_final/checkpoint-7450\"\n",
        "\n",
        "# Carrega o tokenizer\n",
        "tokenizer = AutoTokenizer.from_pretrained(modelo_dir, model_type=\"bert\")\n",
        "\n",
        "# Carrega o modelo treinado\n",
        "model = AutoModelForSequenceClassification.from_pretrained(modelo_dir)\n",
        "\n",
        "# Coloca em modo de avaliação\n",
        "model.eval()\n"
      ],
      "metadata": {
        "colab": {
          "base_uri": "https://localhost:8080/"
        },
        "id": "oFmiCr_6K9LT",
        "outputId": "06ebebdf-1ed2-4113-91b3-fd7d5fe360de"
      },
      "execution_count": null,
      "outputs": [
        {
          "output_type": "execute_result",
          "data": {
            "text/plain": [
              "BertForSequenceClassification(\n",
              "  (bert): BertModel(\n",
              "    (embeddings): BertEmbeddings(\n",
              "      (word_embeddings): Embedding(29794, 768, padding_idx=0)\n",
              "      (position_embeddings): Embedding(512, 768)\n",
              "      (token_type_embeddings): Embedding(2, 768)\n",
              "      (LayerNorm): LayerNorm((768,), eps=1e-12, elementwise_affine=True)\n",
              "      (dropout): Dropout(p=0.1, inplace=False)\n",
              "    )\n",
              "    (encoder): BertEncoder(\n",
              "      (layer): ModuleList(\n",
              "        (0-11): 12 x BertLayer(\n",
              "          (attention): BertAttention(\n",
              "            (self): BertSdpaSelfAttention(\n",
              "              (query): Linear(in_features=768, out_features=768, bias=True)\n",
              "              (key): Linear(in_features=768, out_features=768, bias=True)\n",
              "              (value): Linear(in_features=768, out_features=768, bias=True)\n",
              "              (dropout): Dropout(p=0.1, inplace=False)\n",
              "            )\n",
              "            (output): BertSelfOutput(\n",
              "              (dense): Linear(in_features=768, out_features=768, bias=True)\n",
              "              (LayerNorm): LayerNorm((768,), eps=1e-12, elementwise_affine=True)\n",
              "              (dropout): Dropout(p=0.1, inplace=False)\n",
              "            )\n",
              "          )\n",
              "          (intermediate): BertIntermediate(\n",
              "            (dense): Linear(in_features=768, out_features=3072, bias=True)\n",
              "            (intermediate_act_fn): GELUActivation()\n",
              "          )\n",
              "          (output): BertOutput(\n",
              "            (dense): Linear(in_features=3072, out_features=768, bias=True)\n",
              "            (LayerNorm): LayerNorm((768,), eps=1e-12, elementwise_affine=True)\n",
              "            (dropout): Dropout(p=0.1, inplace=False)\n",
              "          )\n",
              "        )\n",
              "      )\n",
              "    )\n",
              "    (pooler): BertPooler(\n",
              "      (dense): Linear(in_features=768, out_features=768, bias=True)\n",
              "      (activation): Tanh()\n",
              "    )\n",
              "  )\n",
              "  (dropout): Dropout(p=0.1, inplace=False)\n",
              "  (classifier): Linear(in_features=768, out_features=2, bias=True)\n",
              ")"
            ]
          },
          "metadata": {},
          "execution_count": 3
        }
      ]
    },
    {
      "cell_type": "code",
      "source": [
        "import pandas as pd\n",
        "import torch\n",
        "from transformers import AutoTokenizer, AutoModelForSequenceClassification\n",
        "from sklearn.metrics import accuracy_score, classification_report, confusion_matrix\n",
        "import matplotlib.pyplot as plt\n",
        "import seaborn as sns\n",
        "\n",
        "\n",
        "modelo_dir = \"/content/modelo_fakenews_final/modelo_fakenews_final/checkpoint-7450\"\n",
        "csv_path = \"/content/drive/MyDrive/Portugues/test_dataset.csv\"\n",
        "\n",
        "# Define o dispositivo de execução GPU (cuda)\n",
        "device = torch.device(\"cuda\" if torch.cuda.is_available() else \"cpu\")\n",
        "\n",
        "# Carrega o tokenizer e o modelo\n",
        "tokenizer = AutoTokenizer.from_pretrained(modelo_dir, model_type=\"bert\")\n",
        "model = AutoModelForSequenceClassification.from_pretrained(modelo_dir).to(device)\n",
        "model.eval()  #modo de avaliação\n",
        "\n",
        "# Lê o dataset de teste\n",
        "df_test = pd.read_csv(csv_path, sep=\";\", encoding=\"utf-8\")\n",
        "\n",
        "# F faz previsões em lotes p evitar sobrecarga de memória\n",
        "def predict_in_batches(texts, batch_size=200):\n",
        "    preds = []\n",
        "    for i in range(0, len(texts), batch_size):\n",
        "        batch_texts = texts[i:i+batch_size]\n",
        "        inputs = tokenizer(\n",
        "            batch_texts,\n",
        "            padding=True,\n",
        "            truncation=True,\n",
        "            max_length=256,\n",
        "            return_tensors=\"pt\"\n",
        "        ).to(device)\n",
        "\n",
        "        # Desativa o cálculo  gradiente e gera previsões\n",
        "        with torch.no_grad():\n",
        "            outputs = model(**inputs)\n",
        "            batch_preds = torch.argmax(outputs.logits, dim=1).cpu().numpy()\n",
        "            preds.extend(batch_preds)\n",
        "\n",
        "    return preds\n",
        "\n",
        "\n",
        "print(\"Gerando predições\")\n",
        "preds = predict_in_batches(df_test[\"texto\"].tolist(), batch_size=200)\n",
        "\n",
        "# Calcula métricas de desempenho\n",
        "y_true = df_test[\"label\"].values\n",
        "print(\"\\nAcurácia:\", round(accuracy_score(y_true, preds), 4))\n",
        "print(\"\\nRelatório de Classificação:\")\n",
        "print(classification_report(y_true, preds, target_names=[\"FAKE\", \"REAL\"]))\n",
        "\n",
        "# Identifica e mostra as amostras que o modelo errou\n",
        "df_test[\"predito\"] = preds\n",
        "erros = df_test[df_test[\"predito\"] != df_test[\"label\"]]\n",
        "print(f\"\\nTotal de erros: {len(erros)} de {len(df_test)} amostras\")\n",
        "\n",
        "# Cria uma matriz de confusão\n",
        "cm = confusion_matrix(y_true, preds)\n",
        "plt.figure(figsize=(5, 4))\n",
        "sns.heatmap(cm, annot=True, fmt=\"d\", cmap=\"Blues\",\n",
        "            xticklabels=[\"Falso Positivo\", \"Verdadeiro Positivo\"],\n",
        "            yticklabels=[\"Verdadeiro Negativo\", \"Falso Negativo\"])\n",
        "plt.title(\"Matriz de Confusão - BERTimbau\")\n",
        "plt.xlabel(\"Previsão do Modelo\")\n",
        "plt.ylabel(\"Valor Real\")\n",
        "plt.show()\n",
        "\n",
        "# Salva as predições completas\n",
        "output_path = \"/content/drive/MyDrive/Portugues/resultados_bert.csv\"\n",
        "df_test.to_csv(output_path, sep=\";\", index=False, encoding=\"utf-8-sig\")\n",
        "print(f\"Arquivo de predições salvo em: {output_path}\")\n"
      ],
      "metadata": {
        "colab": {
          "base_uri": "https://localhost:8080/",
          "height": 757
        },
        "id": "VzZVwPuQGk5P",
        "outputId": "46e7fc13-328f-44de-8b29-08bac2c7af6d"
      },
      "execution_count": null,
      "outputs": [
        {
          "output_type": "stream",
          "name": "stderr",
          "text": [
            "<>:51: SyntaxWarning: invalid escape sequence '\\ '\n",
            "<>:51: SyntaxWarning: invalid escape sequence '\\ '\n",
            "/tmp/ipython-input-2146435152.py:51: SyntaxWarning: invalid escape sequence '\\ '\n",
            "  print(f\"\\ Total de erros: {len(erros)} de {len(df_test)} amostras\")\n"
          ]
        },
        {
          "output_type": "stream",
          "name": "stdout",
          "text": [
            "🔄 Rodando predições em lotes...\n",
            "\n",
            " Acurácia: 0.9903\n",
            "\n",
            " Relatório de Classificação:\n",
            "              precision    recall  f1-score   support\n",
            "\n",
            "        FAKE       0.99      0.99      0.99      1489\n",
            "        REAL       0.99      0.99      0.99      1490\n",
            "\n",
            "    accuracy                           0.99      2979\n",
            "   macro avg       0.99      0.99      0.99      2979\n",
            "weighted avg       0.99      0.99      0.99      2979\n",
            "\n",
            "\\ Total de erros: 29 de 2979 amostras\n"
          ]
        },
        {
          "output_type": "display_data",
          "data": {
            "text/plain": [
              "<Figure size 500x400 with 2 Axes>"
            ],
            "image/png": "[encoded data removed]"
          },
          "metadata": {}
        },
        {
          "output_type": "stream",
          "name": "stdout",
          "text": [
            "Arquivo de predições salvo em: /content/drive/MyDrive/Portugues/resultados_bert.csv\n"
          ]
        }
      ]
    }
  ]
}