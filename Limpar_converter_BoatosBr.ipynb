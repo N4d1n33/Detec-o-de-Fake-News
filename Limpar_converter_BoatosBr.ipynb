{
  "nbformat": 4,
  "nbformat_minor": 0,
  "metadata": {
    "colab": {
      "provenance": [],
      "authorship_tag": "ABX9TyO37RYf6tGuFgIj8CVrNqBK"
    },
    "kernelspec": {
      "name": "python3",
      "display_name": "Python 3"
    },
    "language_info": {
      "name": "python"
    }
  },
  "cells": [
    {
      "cell_type": "code",
      "execution_count": null,
      "metadata": {
        "id": "rCfq1gM12LBo"
      },
      "outputs": [],
      "source": [
        "import pandas as pd\n",
        "import re\n",
        "\n",
        "caminho = r\"C:\\Users\\Nadine\\Downloads\\boatos_br_corpus_simples.json\"\n",
        "\n",
        "\n",
        "df = pd.read_json(caminho, encoding=\"utf-8\")\n",
        "\n",
        "#remove emogis, caracter especial, espaços vazios, etc\n",
        "def limpar_texto(texto):\n",
        "    texto = str(texto)\n",
        "    texto = re.sub(r\"http\\S+\", \"\", texto)\n",
        "    emoji_pattern = re.compile(\n",
        "        \"[\"\n",
        "        u\"\\U0001F600-\\U0001F64F\"\n",
        "        u\"\\U0001F300-\\U0001F5FF\"\n",
        "        u\"\\U0001F680-\\U0001F6FF\"\n",
        "        u\"\\U0001F1E0-\\U0001F1FF\"\n",
        "        u\"\\U00002700-\\U000027BF\"\n",
        "        u\"\\U000024C2-\\U0001F251\"\n",
        "        \"]+\",\n",
        "        flags=re.UNICODE\n",
        "    )\n",
        "    texto = emoji_pattern.sub(r\"\", texto)\n",
        "    texto = re.sub(r\"[@#]\\w+\", \"\", texto)\n",
        "    texto = re.sub(r\"\\s+\", \" \", texto).strip()\n",
        "    return texto\n",
        "\n",
        "\n",
        "#remove as colunas p deixar somente texto, categoria origem e label\n",
        "df_simplificado = pd.DataFrame({\n",
        "    \"texto\": df[\"texto\"].apply(limpar_texto),\n",
        "    \"categoria\": df[\"categorias\"].apply(lambda x: \", \".join(x)),\n",
        "    \"origem\": df[\"origem\"],\n",
        "    \"label\": df[\"rotulo\"].map({\"falso\": 0, \"verdade\": 1})   #converte label p binario\n",
        "})\n",
        "\n",
        "\n",
        "df_simplificado[\"categoria\"] = df_simplificado[\"categoria\"].str.strip() #converte p csv\n",
        "\n",
        "\n",
        "saida = r\"C:\\Users\\Nadine\\Downloads\\boatosbr_limpo.csv\"\n",
        "df_simplificado.to_csv(saida, index=False, encoding=\"utf-8-sig\", sep=\";\")\n",
        "\n",
        "print(\"criado e limpo \")\n",
        "print(df_simplificado.head())\n"
      ]
    }
  ]
}