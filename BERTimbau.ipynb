{
  "nbformat": 4,
  "nbformat_minor": 0,
  "metadata": {
    "colab": {
      "provenance": [],
      "gpuType": "T4"
    },
    "kernelspec": {
      "name": "python3",
      "display_name": "Python 3"
    },
    "language_info": {
      "name": "python"
    },
    "accelerator": "GPU"
  },
  "cells": [
    {
      "cell_type": "code",
      "execution_count": null,
      "metadata": {
        "id": "cvTltI3OJIRs"
      },
      "outputs": [],
      "source": [
        "!pip uninstall -y transformers\n",
        "!pip install transformers==4.46.3 datasets==3.0.2 accelerate==0.34.2\n",
        "\n"
      ]
    },
    {
      "cell_type": "code",
      "source": [
        "from google.colab import files  #upload dos datasets finais de treino e teste\n",
        "\n",
        "uploaded = files.upload()\n"
      ],
      "metadata": {
        "id": "PbXsiYW7GwGf"
      },
      "execution_count": null,
      "outputs": []
    },
    {
      "cell_type": "code",
      "source": [
        "import pandas as pd\n",
        "from datasets import Dataset\n",
        "\n",
        "train_df = pd.read_csv(\"/content/train_dataset.csv\", sep=\";\")\n",
        "test_df = pd.read_csv(\"/content/test_dataset.csv\", sep=\";\")\n",
        "\n",
        "\n",
        "train_dataset = Dataset.from_pandas(train_df)\n",
        "test_dataset = Dataset.from_pandas(test_df)\n"
      ],
      "metadata": {
        "id": "4S5Gg9qnHLg2"
      },
      "execution_count": null,
      "outputs": []
    },
    {
      "cell_type": "code",
      "source": [
        "from transformers import AutoTokenizer, AutoModelForSequenceClassification   #carregando modelo bert e o tokenizador\n",
        "\n",
        "MODEL_NAME = \"neuralmind/bert-base-portuguese-cased\"\n",
        "\n",
        "tokenizer = AutoTokenizer.from_pretrained(MODEL_NAME)\n",
        "\n",
        "model = AutoModelForSequenceClassification.from_pretrained(\n",
        "    MODEL_NAME,\n",
        "    num_labels=2  #camada final com duas saidas (binario)\n",
        ")\n"
      ],
      "metadata": {
        "id": "AZIA2ApnHSQC"
      },
      "execution_count": null,
      "outputs": []
    },
    {
      "cell_type": "code",
      "source": [
        "def tokenize_function(examples):\n",
        "    return tokenizer(\n",
        "        examples[\"texto\"],\n",
        "        padding=\"max_length\",   # preenche o texto do datasets até o tamanho máximo\n",
        "        truncation=True,        # corta se for muito longo\n",
        "        max_length=256          # numero de tokens\n",
        "    )\n",
        "\n",
        "\n",
        "train_tokenized = train_dataset.map(tokenize_function, batched=True)\n",
        "test_tokenized = test_dataset.map(tokenize_function, batched=True)\n"
      ],
      "metadata": {
        "id": "F29gdC5JHepi"
      },
      "execution_count": null,
      "outputs": []
    },
    {
      "cell_type": "code",
      "source": [
        "#hugging face para configurar e treinar\n",
        "from transformers import TrainingArguments, Trainer\n",
        "\n",
        "# scikit-learn p calcular métricas de desempenho\n",
        "from sklearn.metrics import accuracy_score, precision_recall_fscore_support\n",
        "\n",
        "import numpy as np\n",
        "# função do Trainer para calcular as métricas\n",
        "def compute_metrics(pred):\n",
        "    labels = pred.label_ids\n",
        "    preds = np.argmax(pred.predictions, axis=1)\n",
        "\n",
        "    #calcula metricas\n",
        "    precision, recall, f1, _ = precision_recall_fscore_support(labels, preds, average=\"weighted\")\n",
        "    acc = accuracy_score(labels, preds)\n",
        "\n",
        "\n",
        "    return {\"accuracy\": acc, \"f1\": f1, \"precision\": precision, \"recall\": recall}\n"
      ],
      "metadata": {
        "id": "bMPGNF5lHkRn"
      },
      "execution_count": null,
      "outputs": []
    },
    {
      "cell_type": "code",
      "source": [
        "\n",
        "import os\n",
        "os.environ[\"WANDB_DISABLED\"] = \"true\"  # Desativa o weights & biases\n",
        "\n",
        "\n",
        "training_args = TrainingArguments(\n",
        "    output_dir=\"/content/bertimbau_fake_news\",\n",
        "    evaluation_strategy=\"epoch\",               # avalia  a cada época\n",
        "    save_strategy=\"epoch\",                 # salva checkpoint a cada época\n",
        "    learning_rate=2e-5,                    # taxa aprendizado\n",
        "    per_device_train_batch_size=8,         #lote treino\n",
        "    per_device_eval_batch_size=8,          #lote avaliação\n",
        "    num_train_epochs=5,\n",
        "    weight_decay=0.01,             #regula p evitar overfitting\n",
        "    logging_dir=\"/content/logs\",               #logs\n",
        "    load_best_model_at_end=True    #carrega melhor modelo no final\n",
        ")\n",
        "\n",
        "\n",
        "trainer = Trainer(\n",
        "    model=model,\n",
        "    args=training_args,\n",
        "    train_dataset=train_tokenized,  # dados tokenizados\n",
        "    eval_dataset=test_tokenized,    # dados teste tokenizados\n",
        "    tokenizer=tokenizer,            # tokenizer p texto\n",
        "    compute_metrics=compute_metrics # função das métricasdesempenho\n",
        ")\n",
        "\n",
        "\n",
        "trainer.train()\n"
      ],
      "metadata": {
        "id": "UOnWl8wNHocH"
      },
      "execution_count": null,
      "outputs": []
    },
    {
      "cell_type": "code",
      "source": [
        "results = trainer.evaluate()\n",
        "print(results)\n"
      ],
      "metadata": {
        "id": "jrRKvZWuV7Gs"
      },
      "execution_count": null,
      "outputs": []
    },
    {
      "cell_type": "code",
      "source": [
        "model.save_pretrained(\"/content/bertimbau_fakenews_final\")\n",
        "tokenizer.save_pretrained(\"/content/bertimbau_fakenews_final\")\n"
      ],
      "metadata": {
        "id": "OcWkZN3uV7kN"
      },
      "execution_count": null,
      "outputs": []
    },
    {
      "cell_type": "code",
      "source": [
        "from google.colab import drive   #p salvar no meu drive\n",
        "drive.mount('/content/drive')\n",
        "\n",
        "!cp -r /content/bertimbau_fake_news /content/drive/MyDrive/\n"
      ],
      "metadata": {
        "id": "Krx2IV5KW6P1"
      },
      "execution_count": null,
      "outputs": []
    },
    {
      "cell_type": "code",
      "source": [
        "from google.colab import drive\n",
        "drive.mount('/content/drive')\n"
      ],
      "metadata": {
        "id": "UBq9-u8V5933"
      },
      "execution_count": null,
      "outputs": []
    },
    {
      "cell_type": "code",
      "source": [
        "!ls /content/drive/MyDrive/bertimbau_fake_news\n"
      ],
      "metadata": {
        "id": "MeOe2LHr6rsd"
      },
      "execution_count": null,
      "outputs": []
    },
    {
      "cell_type": "code",
      "source": [
        "!zip -r /content/modelo_fakenews_final.zip \"/content/drive/MyDrive/bertimbau_fake_news/checkpoint-7450\"\n",
        "from google.colab import files\n",
        "files.download(\"/content/modelo_fakenews_final.zip\")  #zipar o ultimo checkpoint e baixar\n"
      ],
      "metadata": {
        "id": "AaS4nvkf7DRn"
      },
      "execution_count": null,
      "outputs": []
    }
  ]
}